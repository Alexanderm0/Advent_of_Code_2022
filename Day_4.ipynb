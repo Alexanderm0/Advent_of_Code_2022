{
 "cells": [
  {
   "cell_type": "markdown",
   "source": [
    "# Advent of Code 2022\n",
    "## Day 4"
   ],
   "metadata": {
    "collapsed": false,
    "pycharm": {
     "name": "#%% md\n"
    }
   }
  },
  {
   "cell_type": "code",
   "execution_count": 1,
   "outputs": [],
   "source": [
    "import time\n",
    "\n",
    "import pytest\n",
    "import ipytest\n",
    "\n",
    "ipytest.autoconfig()"
   ],
   "metadata": {
    "collapsed": false,
    "pycharm": {
     "name": "#%%\n"
    }
   }
  },
  {
   "cell_type": "code",
   "execution_count": 2,
   "outputs": [],
   "source": [
    "def readData(filename):\n",
    "    with open(filename, 'r') as f:\n",
    "        lines = f.readlines()\n",
    "        f.close()\n",
    "    return lines\n",
    "\n",
    "lines = readData('./data/day4.txt')\n",
    "lines = [line.strip('\\n').split(' ') for line in lines]"
   ],
   "metadata": {
    "collapsed": false,
    "pycharm": {
     "name": "#%%\n"
    }
   }
  },
  {
   "cell_type": "code",
   "execution_count": 3,
   "outputs": [],
   "source": [
    "def getRanges(pair):\n",
    "    # split the data on the four range indicators\n",
    "    ranges = pair[0].split(',')\n",
    "    ranges = [ran.split('-') for ran in ranges]\n",
    "    return ranges\n",
    "\n",
    "def rangesToInt(ranges):\n",
    "    # convert the string type range indicators to int\n",
    "    ints = []\n",
    "    for ran in ranges:\n",
    "        ints.append(int(ran[0]))\n",
    "        ints.append(int(ran[1]))\n",
    "    return ints\n",
    "\n",
    "def setRange(ranges):\n",
    "    # generate the full range as a set for comparison\n",
    "    range1 = set(range(ranges[0], ranges[1]+1))\n",
    "    range2 = set(range(ranges[2], ranges[3]+1))\n",
    "    return range1, range2"
   ],
   "metadata": {
    "collapsed": false,
    "pycharm": {
     "name": "#%%\n"
    }
   }
  },
  {
   "cell_type": "markdown",
   "source": [
    "### Test functions"
   ],
   "metadata": {
    "collapsed": false,
    "pycharm": {
     "name": "#%% md\n"
    }
   }
  },
  {
   "cell_type": "code",
   "execution_count": 4,
   "outputs": [],
   "source": [
    "def test_getRanges():\n",
    "    pair = ['18-20,19-21']\n",
    "    assert getRanges(pair) == [['18', '20'], ['19', '21']]\n",
    "\n",
    "def test_rangesToInt():\n",
    "    ranges = [['18', '20'], ['19', '21']]\n",
    "    assert rangesToInt(ranges) == [18, 20, 19, 21]\n",
    "\n",
    "def test_setRange():\n",
    "    ranges = [18, 20, 19, 21]\n",
    "    range1, range2 = setRange(ranges)\n",
    "    assert range1 == set([18, 19, 20])\n",
    "    assert range2 == set([19, 20, 21])"
   ],
   "metadata": {
    "collapsed": false,
    "pycharm": {
     "name": "#%%\n"
    }
   }
  },
  {
   "cell_type": "code",
   "execution_count": 5,
   "outputs": [
    {
     "name": "stdout",
     "output_type": "stream",
     "text": [
      "\u001B[32m.\u001B[0m\u001B[32m.\u001B[0m\u001B[32m.\u001B[0m\u001B[32m                                                                                          [100%]\u001B[0m\n",
      "\u001B[32m\u001B[32m\u001B[1m3 passed\u001B[0m\u001B[32m in 0.06s\u001B[0m\u001B[0m\n"
     ]
    },
    {
     "data": {
      "text/plain": "<ExitCode.OK: 0>"
     },
     "execution_count": 5,
     "metadata": {},
     "output_type": "execute_result"
    }
   ],
   "source": [
    "ipytest.run()"
   ],
   "metadata": {
    "collapsed": false,
    "pycharm": {
     "name": "#%%\n"
    }
   }
  },
  {
   "cell_type": "markdown",
   "source": [
    "### Part 1"
   ],
   "metadata": {
    "collapsed": false,
    "pycharm": {
     "name": "#%% md\n"
    }
   }
  },
  {
   "cell_type": "code",
   "execution_count": 6,
   "outputs": [],
   "source": [
    "def countSubsets(all_pairs):\n",
    "    # count number of full subsets\n",
    "    counter = 0\n",
    "    for pair in all_pairs:\n",
    "        ranges = rangesToInt(getRanges(pair))\n",
    "        r1, r2 = setRange(ranges)\n",
    "        if r1.issubset(r2) or r2.issubset(r1):\n",
    "            counter += 1\n",
    "    return counter\n",
    "\n",
    "def test_countSubsets():\n",
    "    all_pairs = [['1-5, 2-3'], ['2-7, 4-5'], ['4-6, 7-20']]\n",
    "    assert countSubsets(all_pairs) == 2"
   ],
   "metadata": {
    "collapsed": false,
    "pycharm": {
     "name": "#%%\n"
    }
   }
  },
  {
   "cell_type": "markdown",
   "source": [
    "### Part 2"
   ],
   "metadata": {
    "collapsed": false,
    "pycharm": {
     "name": "#%% md\n"
    }
   }
  },
  {
   "cell_type": "code",
   "execution_count": 7,
   "outputs": [],
   "source": [
    "def countOverlapping(all_pairs):\n",
    "    # count number of sets that overlap\n",
    "    counter = 0\n",
    "    for pair in all_pairs:\n",
    "        ranges = rangesToInt(getRanges(pair))\n",
    "        r1, r2 = setRange(ranges)\n",
    "        if r1 & r2:\n",
    "            counter += 1\n",
    "    return counter\n",
    "\n",
    "def test_countOverlapping():\n",
    "    all_pairs = [['1-5, 2-8'], ['2-7, 7-9'], ['4-8, 7-20'], ['1-5, 7-20']]\n",
    "    assert countOverlapping(all_pairs) == 3"
   ],
   "metadata": {
    "collapsed": false,
    "pycharm": {
     "name": "#%%\n"
    }
   }
  },
  {
   "cell_type": "code",
   "execution_count": 8,
   "outputs": [
    {
     "name": "stdout",
     "output_type": "stream",
     "text": [
      "\u001B[32m.\u001B[0m\u001B[32m.\u001B[0m\u001B[32m.\u001B[0m\u001B[32m.\u001B[0m\u001B[32m.\u001B[0m\u001B[32m                                                                                        [100%]\u001B[0m\n",
      "\u001B[32m\u001B[32m\u001B[1m5 passed\u001B[0m\u001B[32m in 0.03s\u001B[0m\u001B[0m\n"
     ]
    },
    {
     "data": {
      "text/plain": "<ExitCode.OK: 0>"
     },
     "execution_count": 8,
     "metadata": {},
     "output_type": "execute_result"
    }
   ],
   "source": [
    "ipytest.run()"
   ],
   "metadata": {
    "collapsed": false,
    "pycharm": {
     "name": "#%%\n"
    }
   }
  },
  {
   "cell_type": "markdown",
   "source": [
    "### Final answers"
   ],
   "metadata": {
    "collapsed": false,
    "pycharm": {
     "name": "#%% md\n"
    }
   }
  },
  {
   "cell_type": "code",
   "execution_count": 9,
   "outputs": [
    {
     "name": "stdout",
     "output_type": "stream",
     "text": [
      "# of subsets: 477\n",
      "# of overlapping: 830\n"
     ]
    }
   ],
   "source": [
    "print('# of subsets: ' + countSubsets(lines).__str__())\n",
    "print('# of overlapping: ' + countOverlapping(lines).__str__())"
   ],
   "metadata": {
    "collapsed": false,
    "pycharm": {
     "name": "#%%\n"
    }
   }
  },
  {
   "cell_type": "code",
   "execution_count": 9,
   "outputs": [],
   "source": [],
   "metadata": {
    "collapsed": false,
    "pycharm": {
     "name": "#%%\n"
    }
   }
  }
 ],
 "metadata": {
  "kernelspec": {
   "display_name": "Python 3",
   "language": "python",
   "name": "python3"
  },
  "language_info": {
   "codemirror_mode": {
    "name": "ipython",
    "version": 2
   },
   "file_extension": ".py",
   "mimetype": "text/x-python",
   "name": "python",
   "nbconvert_exporter": "python",
   "pygments_lexer": "ipython2",
   "version": "2.7.6"
  }
 },
 "nbformat": 4,
 "nbformat_minor": 0
}