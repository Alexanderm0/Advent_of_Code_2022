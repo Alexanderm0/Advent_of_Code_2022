{
 "cells": [
  {
   "cell_type": "markdown",
   "source": [
    "# Advent of Code 2022\n",
    "## Day 8\n",
    "Lazy day, no tests here!"
   ],
   "metadata": {
    "collapsed": false,
    "pycharm": {
     "name": "#%% md\n"
    }
   }
  },
  {
   "cell_type": "code",
   "execution_count": 1,
   "outputs": [],
   "source": [
    "import time\n",
    "\n",
    "import pytest\n",
    "import ipytest\n",
    "from pprint import pprint\n",
    "import numpy as np"
   ],
   "metadata": {
    "collapsed": false,
    "pycharm": {
     "name": "#%%\n"
    }
   }
  },
  {
   "cell_type": "code",
   "execution_count": 6,
   "outputs": [
    {
     "name": "stdout",
     "output_type": "stream",
     "text": [
      "['110120112111001131321041300301301303441234124551121322251330313143000402010402222102132100122022010',\n",
      " '102022211221313002214040003422200133214443443344513144525425414312301403121303234303302002320112112',\n",
      " '210010213122220022044234043143210343153522554535142243154212251531131301322100210101210220021120002',\n",
      " '102121023302220201244401343001244152321314335555225552452235435142424222400201243131033233132300012',\n",
      " '000111230312012203122030310412244414125415343124153241254535545413214132223113434142202210123003200',\n",
      " '200000202333110340220332420035514312151535342225553245343445434132251555330340100104010231010021300',\n",
      " '000002323103342131024320314552214234313253142322213135224452154545325222413001110021303002023031310',\n",
      " '020211223330002104422314333323242544314345425524624623312225345451215151441224141424031432102112031',\n",
      " '103101102120222144402422344225313233124123456625344345362256253215321432522113143331421132120100111',\n",
      " '323123312033323011234312234321331412162655266455234525226643636415153422232353340222233324022023103']\n"
     ]
    }
   ],
   "source": [
    "def readData(filename):\n",
    "        with open(filename, 'r') as f:\n",
    "            lines = f.readlines()\n",
    "            f.close()\n",
    "        return lines\n",
    "\n",
    "lines = readData('./data/day8.txt')\n",
    "lines = [line.strip('\\n') for line in lines]\n",
    "pprint(lines[:10])"
   ],
   "metadata": {
    "collapsed": false,
    "pycharm": {
     "name": "#%%\n"
    }
   }
  },
  {
   "cell_type": "code",
   "execution_count": 11,
   "outputs": [],
   "source": [
    "def toIntArray(data):\n",
    "    int_array = [None]*len(data)\n",
    "    for idx, line in enumerate(data):\n",
    "        int_array[idx] = [int(x) for x in line]\n",
    "    return np.array(int_array)\n",
    "\n",
    "int_arr = toIntArray(lines)"
   ],
   "metadata": {
    "collapsed": false,
    "pycharm": {
     "name": "#%%\n"
    }
   }
  },
  {
   "cell_type": "code",
   "execution_count": 34,
   "outputs": [
    {
     "name": "stdout",
     "output_type": "stream",
     "text": [
      "(99, 99)\n"
     ]
    },
    {
     "data": {
      "text/plain": "array([2, 0, 1, 1, 2, 1, 1, 1, 0, 0, 1, 1, 3, 1, 3, 2, 1, 0, 4, 1, 3, 0,\n       0, 3, 0, 1, 3, 0, 1, 3, 0, 3, 4, 4, 1, 2, 3, 4, 1, 2, 4, 5, 5, 1,\n       1, 2, 1, 3, 2, 2, 2, 5, 1, 3, 3, 0, 3, 1, 3, 1, 4, 3, 0, 0, 0, 4,\n       0, 2, 0, 1, 0, 4, 0, 2, 2, 2, 2, 1, 0, 2, 1, 3, 2, 1, 0, 0, 1, 2,\n       2, 0, 2, 2, 0, 1, 0])"
     },
     "execution_count": 34,
     "metadata": {},
     "output_type": "execute_result"
    }
   ],
   "source": [
    "print(int_arr.shape)\n",
    "int_arr[0,4:]"
   ],
   "metadata": {
    "collapsed": false,
    "pycharm": {
     "name": "#%%\n"
    }
   }
  },
  {
   "cell_type": "code",
   "execution_count": 50,
   "outputs": [
    {
     "name": "stdout",
     "output_type": "stream",
     "text": [
      "1851\n"
     ]
    }
   ],
   "source": [
    "def isTreeVisible(r, c, data):\n",
    "    own_height = data[r, c]\n",
    "    same_row_left = np.sum(data[r,:c]>=own_height)\n",
    "    same_row_right = np.sum(data[r,c:]>=own_height)\n",
    "    same_col_above = np.sum(data[:r,c]>=own_height)\n",
    "    same_col_below = np.sum(data[r:,c]>=own_height)\n",
    "\n",
    "    if same_row_left > 0 and same_row_right > 1 and same_col_above > 0 and same_col_below > 1:\n",
    "        # invisible\n",
    "        return False\n",
    "    # visible\n",
    "    return True\n",
    "\n",
    "def getInsideMeasurements(data):\n",
    "    sizes = data.shape\n",
    "    rows = np.arange(1, sizes[0]-1)\n",
    "    columns = np.arange(1, sizes[1]-1)\n",
    "    return rows, columns\n",
    "\n",
    "def findVisibleTrees(data):\n",
    "    rows, columns = getInsideMeasurements(data)\n",
    "    count = np.sum(data.shape)*2-4\n",
    "    for r in rows:\n",
    "        for c in columns:\n",
    "            if isTreeVisible(r, c, data):\n",
    "                count += 1\n",
    "    return count\n",
    "\n",
    "print(findVisibleTrees(int_arr))"
   ],
   "metadata": {
    "collapsed": false,
    "pycharm": {
     "name": "#%%\n"
    }
   }
  },
  {
   "cell_type": "markdown",
   "source": [
    "### Part 2"
   ],
   "metadata": {
    "collapsed": false,
    "pycharm": {
     "name": "#%% md\n"
    }
   }
  },
  {
   "cell_type": "code",
   "execution_count": 61,
   "outputs": [
    {
     "name": "stdout",
     "output_type": "stream",
     "text": [
      "574080\n"
     ]
    }
   ],
   "source": [
    "def getScore(arr, height):\n",
    "    for idx, tree in enumerate(arr):\n",
    "        if tree >= height:\n",
    "            return idx+1\n",
    "    return len(arr)\n",
    "\n",
    "def getScenicScore(r, c, data):\n",
    "    height = data[r, c]\n",
    "    left = getScore(data[:r, c][::-1], height)\n",
    "    right = getScore(data[r+1:, c], height)\n",
    "    above = getScore(data[r, :c][::-1], height)\n",
    "    below = getScore(data[r, c+1:], height)\n",
    "    return left*right*above*below\n",
    "\n",
    "def getBestTree(data):\n",
    "    max = -1\n",
    "    rows, columns = getInsideMeasurements(data)\n",
    "    for r in rows:\n",
    "        for c in columns:\n",
    "            scenic_score = getScenicScore(r, c, data)\n",
    "            if scenic_score > max:\n",
    "                max = scenic_score\n",
    "    return max\n",
    "\n",
    "print(getBestTree(int_arr))\n",
    "\n",
    "\n",
    "\n",
    "\n"
   ],
   "metadata": {
    "collapsed": false,
    "pycharm": {
     "name": "#%%\n"
    }
   }
  },
  {
   "cell_type": "code",
   "execution_count": 58,
   "outputs": [
    {
     "data": {
      "text/plain": "array([1, 1, 2, 1, 0, 2])"
     },
     "execution_count": 58,
     "metadata": {},
     "output_type": "execute_result"
    }
   ],
   "source": [
    "int_arr[5::-1, 0][::-1]"
   ],
   "metadata": {
    "collapsed": false,
    "pycharm": {
     "name": "#%%\n"
    }
   }
  },
  {
   "cell_type": "code",
   "execution_count": null,
   "outputs": [],
   "source": [],
   "metadata": {
    "collapsed": false,
    "pycharm": {
     "name": "#%%\n"
    }
   }
  }
 ],
 "metadata": {
  "kernelspec": {
   "display_name": "Python 3",
   "language": "python",
   "name": "python3"
  },
  "language_info": {
   "codemirror_mode": {
    "name": "ipython",
    "version": 2
   },
   "file_extension": ".py",
   "mimetype": "text/x-python",
   "name": "python",
   "nbconvert_exporter": "python",
   "pygments_lexer": "ipython2",
   "version": "2.7.6"
  }
 },
 "nbformat": 4,
 "nbformat_minor": 0
}