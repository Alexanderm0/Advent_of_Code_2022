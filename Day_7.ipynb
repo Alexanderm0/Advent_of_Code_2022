{
 "cells": [
  {
   "cell_type": "markdown",
   "source": [
    "# Advent of Code 2022\n",
    "## Day 7"
   ],
   "metadata": {
    "collapsed": false,
    "pycharm": {
     "name": "#%% md\n"
    }
   }
  },
  {
   "cell_type": "code",
   "execution_count": 43,
   "outputs": [],
   "source": [
    "import time\n",
    "\n",
    "import pytest\n",
    "import ipytest\n",
    "from pprint import pprint\n",
    "import math\n",
    "\n",
    "ipytest.autoconfig()"
   ],
   "metadata": {
    "collapsed": false,
    "pycharm": {
     "name": "#%%\n"
    }
   }
  },
  {
   "cell_type": "code",
   "execution_count": 44,
   "outputs": [
    {
     "name": "stdout",
     "output_type": "stream",
     "text": [
      "['$ cd /',\n",
      " '$ ls',\n",
      " 'dir fpljqj',\n",
      " '171526 ghtzhjwf.nls',\n",
      " 'dir gsdsbld',\n",
      " 'dir hbmjtb',\n",
      " '296801 mjfjqw.ccv',\n",
      " 'dir nfn',\n",
      " 'dir qmrsvfvw',\n",
      " '102565 qqjnqb.chd',\n",
      " 'dir svgbqd',\n",
      " '$ cd fpljqj',\n",
      " '$ ls',\n",
      " '153563 ghtzhjwf.nls',\n",
      " '243252 gsvjgj.jsm',\n",
      " '154134 hghnrbqg.rzb',\n",
      " '$ cd ..',\n",
      " '$ cd gsdsbld',\n",
      " '$ ls',\n",
      " 'dir npmncvhh',\n",
      " 'dir qmrsvfvw',\n",
      " 'dir sqtnlr',\n",
      " 'dir vzndpc',\n",
      " '$ cd npmncvhh',\n",
      " '$ ls',\n",
      " '81366 dwbgr.ztr',\n",
      " '144577 fzjmcq',\n",
      " 'dir mphhrqf',\n",
      " 'dir rnmvggfd',\n",
      " '276454 zfl.ghv']\n"
     ]
    }
   ],
   "source": [
    "def readData(filename):\n",
    "        with open(filename, 'r') as f:\n",
    "            lines = f.readlines()\n",
    "            f.close()\n",
    "        return lines\n",
    "\n",
    "data = readData('./data/day7.txt')\n",
    "data = [line.strip('\\n') for line in data]\n",
    "pprint(data[:30])"
   ],
   "metadata": {
    "collapsed": false,
    "pycharm": {
     "name": "#%%\n"
    }
   }
  },
  {
   "cell_type": "code",
   "execution_count": 75,
   "outputs": [],
   "source": [
    "class directory:\n",
    "    \"\"\"\n",
    "    Class to define a directory\n",
    "    \"\"\"\n",
    "    def __init__(self, is_root = False, parent = None, name = None):\n",
    "        self.is_root = is_root\n",
    "        self.name = name\n",
    "        self.dirs = {}\n",
    "        self.files = set()\n",
    "        self.parent = parent\n",
    "        self.size = 0\n",
    "        self.total = 0\n",
    "\n",
    "    def recalculateSize(self):\n",
    "        # calculates the size of the directory based on the files (excluding subdirectories)\n",
    "        self.size = 0\n",
    "        for file in self.files:\n",
    "            self.size += file[0]\n",
    "        return\n",
    "\n",
    "    def addSubdirSize(self):\n",
    "        # add the size of subdirectories to the size\n",
    "        self.recalculateSize()\n",
    "        for d in self.dirs.keys():\n",
    "            self.size += self.dirs[d].addSubdirSize()\n",
    "        return self.size\n",
    "\n",
    "    def sumUnder100k(self):\n",
    "        # recursive call to sum all directories under 100,000 in size\n",
    "        self.total = 0\n",
    "        for d in self.dirs.keys():\n",
    "            if self.dirs[d].size <= 100000:\n",
    "                self.total += self.dirs[d].size + self.dirs[d].sumUnder100k()\n",
    "            else:\n",
    "                self.total += self.dirs[d].sumUnder100k()\n",
    "        return self.total\n",
    "\n",
    "    def findSmallest(self, needed, smallest):\n",
    "        # recursively find the size of the smallest directory that meets the requirements\n",
    "        for d in self.dirs.keys():\n",
    "            new = self.dirs[d].findSmallest(needed, smallest)\n",
    "            if new < smallest:\n",
    "                smallest = new\n",
    "        if needed < self.size < smallest:\n",
    "            smallest = self.size\n",
    "        return smallest\n"
   ],
   "metadata": {
    "collapsed": false,
    "pycharm": {
     "name": "#%%\n"
    }
   }
  },
  {
   "cell_type": "code",
   "execution_count": null,
   "outputs": [],
   "source": [
    "class fileSystem:\n",
    "    def __init__(self, capacity = 70000000):\n",
    "        self.root = directory(is_root = True, name = '/')\n",
    "        self.current_dir = self.root\n",
    "        self.capacity = capacity\n",
    "\n",
    "    def mkDir(self, dir_name):\n",
    "        # instantiate a new directory\n",
    "        if dir_name not in self.current_dir.dirs.keys():\n",
    "            self.current_dir.dirs[dir_name] = directory(is_root = False, parent = self.current_dir, name = dir_name)\n",
    "        return\n",
    "\n",
    "    def addFile(self, file):\n",
    "        # add a file to the current dir\n",
    "        self.current_dir.files.add((int(file[0]), file[1]))\n",
    "        self.current_dir.size += int(file[0])\n",
    "        return\n",
    "\n",
    "    def isCommand(self, line):\n",
    "        # process a line on whether it is a command\n",
    "        first_char = line[0]\n",
    "        if first_char == '$':\n",
    "            return True\n",
    "        return False\n",
    "\n",
    "    def processCommand(self, line):\n",
    "        # process the type of command (do something if it is 'cd', else do nothing)\n",
    "        command_parts = line.split(' ')\n",
    "        if command_parts[1] == 'cd':\n",
    "            self.cd(command_parts[2])\n",
    "        return\n",
    "\n",
    "    def cd(self, direc):\n",
    "        # process the change directory command and its different cases\n",
    "        if direc == '..':\n",
    "            self.current_dir = self.current_dir.parent\n",
    "        elif direc == '/':\n",
    "            self.current_dir = self.root\n",
    "        else:\n",
    "            self.mkDir(direc)\n",
    "            self.current_dir = self.current_dir.dirs[direc]\n",
    "\n",
    "    def processFile(self, file):\n",
    "        # process the file line\n",
    "        file_parts = file.split(' ')\n",
    "        if file_parts[0] == 'dir' and file_parts[1] not in self.current_dir.dirs.keys():\n",
    "            self.current_dir.dirs[file_parts[1]] = directory(is_root = False,\n",
    "                                                             parent = self.current_dir,\n",
    "                                                             name = file_parts[1])\n",
    "        else:\n",
    "            self.addFile(file_parts)\n",
    "        return\n",
    "\n",
    "    def buildTree(self, lines):\n",
    "        # take input lines and build the file directory tree\n",
    "        counter = 0\n",
    "        num_lines = len(lines)\n",
    "        while counter < num_lines:\n",
    "            if self.isCommand(lines[counter]):\n",
    "                self.processCommand(lines[counter])\n",
    "            else:\n",
    "                self.processFile(lines[counter])\n",
    "            counter += 1\n",
    "        self.root.addSubdirSize()\n",
    "\n",
    "    def getUnder100k(self):\n",
    "        # get the sum of all directories under 100,000 in size\n",
    "        return self.root.sumUnder100k()\n",
    "\n",
    "    def findMoreNeeded(self, needed_space):\n",
    "        # calculate how much more is needed based on what is still available\n",
    "        available = self.capacity - self.root.size\n",
    "        return needed_space - available\n",
    "\n",
    "    def findSmallestDelete(self, needed_space):\n",
    "        # get the smallest directory which can be deleted to meet the requirements\n",
    "        more_needed = self.findMoreNeeded(needed_space)\n",
    "        return self.root.findSmallest(more_needed, smallest=math.inf)\n"
   ],
   "metadata": {
    "collapsed": false,
    "pycharm": {
     "name": "#%%\n"
    }
   }
  },
  {
   "cell_type": "markdown",
   "source": [
    "### Answers"
   ],
   "metadata": {
    "collapsed": false,
    "pycharm": {
     "name": "#%% md\n"
    }
   }
  },
  {
   "cell_type": "code",
   "execution_count": 78,
   "outputs": [
    {
     "name": "stdout",
     "output_type": "stream",
     "text": [
      "Sum of directories under 100,000 in size: 1783610\n",
      "Size of the smallest directory which can be deleted to make space: 4370655\n"
     ]
    }
   ],
   "source": [
    "cap = 70000000\n",
    "need = 30000000\n",
    "\n",
    "fs = fileSystem(capacity=cap)\n",
    "fs.buildTree(data)\n",
    "# Part 1\n",
    "print('Sum of directories under 100,000 in size: ' + str(fs.getUnder100k()))\n",
    "# Part 2\n",
    "print('Size of the smallest directory which can be deleted to make space: '\n",
    "      + str(fs.findSmallestDelete(need)))"
   ],
   "metadata": {
    "collapsed": false,
    "pycharm": {
     "name": "#%%\n"
    }
   }
  },
  {
   "cell_type": "code",
   "execution_count": null,
   "outputs": [],
   "source": [],
   "metadata": {
    "collapsed": false,
    "pycharm": {
     "name": "#%%\n"
    }
   }
  }
 ],
 "metadata": {
  "kernelspec": {
   "display_name": "Python 3",
   "language": "python",
   "name": "python3"
  },
  "language_info": {
   "codemirror_mode": {
    "name": "ipython",
    "version": 2
   },
   "file_extension": ".py",
   "mimetype": "text/x-python",
   "name": "python",
   "nbconvert_exporter": "python",
   "pygments_lexer": "ipython2",
   "version": "2.7.6"
  }
 },
 "nbformat": 4,
 "nbformat_minor": 0
}