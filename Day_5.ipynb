{
 "cells": [
  {
   "cell_type": "markdown",
   "source": [
    "# Advent of Code 2022\n",
    "## Day 5\n",
    "Solution working for an arbitrary number of stacks and height"
   ],
   "metadata": {
    "collapsed": false,
    "pycharm": {
     "name": "#%% md\n"
    }
   }
  },
  {
   "cell_type": "code",
   "execution_count": 136,
   "outputs": [],
   "source": [
    "import time\n",
    "\n",
    "import pytest\n",
    "import ipytest\n",
    "\n",
    "ipytest.autoconfig()"
   ],
   "metadata": {
    "collapsed": false,
    "pycharm": {
     "name": "#%%\n"
    }
   }
  },
  {
   "cell_type": "code",
   "execution_count": 137,
   "outputs": [],
   "source": [
    "def readData(filename):\n",
    "    with open(filename, 'r') as f:\n",
    "        lines = f.readlines()\n",
    "        f.close()\n",
    "    return lines\n",
    "\n",
    "lines = readData('./data/day5.txt')\n",
    "dat = [line.strip('\\n') for line in lines]"
   ],
   "metadata": {
    "collapsed": false,
    "pycharm": {
     "name": "#%%\n"
    }
   }
  },
  {
   "cell_type": "code",
   "execution_count": 138,
   "outputs": [],
   "source": [
    "def findNumStacks(data):\n",
    "    # Find the number of stacks present\n",
    "    for line in data:\n",
    "        if line[0][0] != '[':\n",
    "            return int(line[-1])\n",
    "    return\n",
    "\n",
    "def initStacks(n):\n",
    "    # initiate the dictionary mapping for each stack to a list (stack implementation)\n",
    "    stacks = {}\n",
    "    for i in range(n):\n",
    "        stacks[i] = []\n",
    "    return stacks\n",
    "\n",
    "def getCratesFromRow(row):\n",
    "    # for a row of data, get the entry for each stack\n",
    "    return [el for idx, el in enumerate(row) if (idx-1)%4 == 0]\n",
    "\n",
    "def isEmpty(crate):\n",
    "    # check if the entry for the given stack is empty\n",
    "    if crate == ' ':\n",
    "        return True\n",
    "    return False\n",
    "\n",
    "def reverseStacks(stacks):\n",
    "    # Turn around the stack for initiating\n",
    "    for key in stacks.keys():\n",
    "        stacks[key].reverse()\n",
    "    return stacks\n",
    "\n",
    "def readCrates(data):\n",
    "    # read the starting state of all stacks\n",
    "    n = findNumStacks(data)\n",
    "    stacks = initStacks(n)\n",
    "    for line in data:\n",
    "        if line[0][0] == '[':\n",
    "            crates = getCratesFromRow(line)\n",
    "            for idx, crate in enumerate(crates):\n",
    "                if not isEmpty(crate):\n",
    "                    stacks[idx] += crate\n",
    "        else:\n",
    "            break\n",
    "    stacks = reverseStacks(stacks)\n",
    "    return stacks\n",
    "\n",
    "def moveCrate(stacks, start, dest):\n",
    "    # move one crate from a start point to its destination\n",
    "    val = stacks[start][-1]\n",
    "    stacks[dest] += val\n",
    "    stacks[start].pop()\n",
    "    return stacks\n",
    "\n",
    "def moveCrate9001(stacks, num, start, dest):\n",
    "    # move a number of stacks, retaining their order\n",
    "    temp_stack = [None]*num\n",
    "    for crate in range(num):\n",
    "        temp_stack[crate] = stacks[start][-1]\n",
    "        stacks[start].pop()\n",
    "    temp_stack.reverse()\n",
    "    stacks[dest] = stacks[dest] + temp_stack\n",
    "    return stacks\n",
    "\n",
    "def findMovements(data):\n",
    "    # find where the movement specifications start in the document\n",
    "    for idx, line in enumerate(data):\n",
    "        if line == '':\n",
    "            return data[idx+1:]\n",
    "\n",
    "def movementsToArray(data):\n",
    "    # convert the lines of movements to lists of the moves\n",
    "    movements = findMovements(data)\n",
    "    move_arr = [None]*len(movements)\n",
    "    for idx, movement in enumerate(movements):\n",
    "        movement = movement.split(' ')\n",
    "        move_arr[idx] = [int(movement[1]), int(movement[3])-1, int(movement[5])-1]\n",
    "    return move_arr\n",
    "\n",
    "def doMovement(move, stacks):\n",
    "    # perform a move and return the updated stacks\n",
    "    for crates in range(move[0]):\n",
    "        stacks = moveCrate(stacks, move[1], move[2])\n",
    "    return stacks\n",
    "\n",
    "def findTops(stacks):\n",
    "    # return the top crate values\n",
    "    top = ''\n",
    "    for key in stacks.keys():\n",
    "        top += stacks[key][-1]\n",
    "    return top\n"
   ],
   "metadata": {
    "collapsed": false,
    "pycharm": {
     "name": "#%%\n"
    }
   }
  },
  {
   "cell_type": "markdown",
   "source": [
    "### Test functions"
   ],
   "metadata": {
    "collapsed": false,
    "pycharm": {
     "name": "#%% md\n"
    }
   }
  },
  {
   "cell_type": "code",
   "execution_count": 139,
   "outputs": [
    {
     "name": "stdout",
     "output_type": "stream",
     "text": [
      "\u001B[32m.\u001B[0m\u001B[32m.\u001B[0m\u001B[32m.\u001B[0m\u001B[32m.\u001B[0m\u001B[32m.\u001B[0m\u001B[32m.\u001B[0m\u001B[32m.\u001B[0m\u001B[32m.\u001B[0m\u001B[32m                                                                                     [100%]\u001B[0m\n",
      "\u001B[32m\u001B[32m\u001B[1m8 passed\u001B[0m\u001B[32m in 0.05s\u001B[0m\u001B[0m\n"
     ]
    },
    {
     "data": {
      "text/plain": "<ExitCode.OK: 0>"
     },
     "execution_count": 139,
     "metadata": {},
     "output_type": "execute_result"
    }
   ],
   "source": [
    "def test_findNumStacks():\n",
    "    lines = readData('./data/day5.txt')\n",
    "    lines = [line.strip('\\n') for line in lines]\n",
    "    assert findNumStacks(lines) == 9\n",
    "\n",
    "def test_getCratesFromRow():\n",
    "    ans = ['L', 'F', 'G', ' ', 'C', ' ', 'L', 'N', 'N']\n",
    "    lines = readData('./data/day5.txt')\n",
    "    lines = [line.strip('\\n') for line in lines]\n",
    "    row = lines[3]\n",
    "    assert getCratesFromRow(row) == ans\n",
    "\n",
    "def test_isEmpty():\n",
    "    assert isEmpty(' ') == True\n",
    "    assert isEmpty('L') == False\n",
    "\n",
    "def test_readCrates():\n",
    "    lines = ['[N] [J]', '[R] [P]', '2']\n",
    "    ans = [['R', 'N'], ['P', 'J']]\n",
    "    assert readCrates(lines)[0] == ans[0]\n",
    "    assert readCrates(lines)[1] == ans[1]\n",
    "\n",
    "def test_moveCrate():\n",
    "    lines = ['[N] [J]', '[R] [P]', '2']\n",
    "    ans = [['R'], ['P', 'J', 'N']]\n",
    "    stacks = readCrates(lines)\n",
    "    stacks = moveCrate(stacks, 0, 1)\n",
    "    assert stacks[0] == ans[0]\n",
    "    assert stacks[1] == ans[1]\n",
    "\n",
    "def test_readMovements():\n",
    "    lines = ['[test] [test]', '[test] [test]', '', 'move 1 from 7 to 6', 'move 1 from 9 to 4', 'move 4 from 9 to 6']\n",
    "    ans = ['move 1 from 7 to 6', 'move 1 from 9 to 4', 'move 4 from 9 to 6']\n",
    "    assert findMovements(lines) == ans\n",
    "\n",
    "def test_movementsToArray():\n",
    "    lines = ['[test] [test]', '[test] [test]', '', 'move 1 from 7 to 6', 'move 1 from 9 to 4', 'move 4 from 9 to 6']\n",
    "    moves = movementsToArray(lines)\n",
    "    assert moves == [[1, 6, 5], [1, 8, 3], [4, 8, 5]]\n",
    "\n",
    "def test_moveCrate9001():\n",
    "    move = [2, 0, 1]\n",
    "    lines = ['[N] [J]', '[R] [P]', '2']\n",
    "    stacks = readCrates(lines)\n",
    "    ans = [[], ['P', 'J', 'R', 'N']]\n",
    "    stacks = moveCrate9001(stacks, move[0], move[1], move[2])\n",
    "    assert stacks[0] == ans[0]\n",
    "    assert stacks[1] == ans[1]\n",
    "\n",
    "\n",
    "ipytest.run()\n"
   ],
   "metadata": {
    "collapsed": false,
    "pycharm": {
     "name": "#%%\n"
    }
   }
  },
  {
   "cell_type": "markdown",
   "source": [
    "### Part 1 answer"
   ],
   "metadata": {
    "collapsed": false,
    "pycharm": {
     "name": "#%% md\n"
    }
   }
  },
  {
   "cell_type": "code",
   "execution_count": 140,
   "outputs": [
    {
     "name": "stdout",
     "output_type": "stream",
     "text": [
      "QPJPLMNNR\n"
     ]
    }
   ],
   "source": [
    "stacks = readCrates(dat)\n",
    "moves = movementsToArray(dat)\n",
    "for move in moves:\n",
    "    stacks = doMovement(move, stacks)\n",
    "print(findTops(stacks))"
   ],
   "metadata": {
    "collapsed": false,
    "pycharm": {
     "name": "#%%\n"
    }
   }
  },
  {
   "cell_type": "markdown",
   "source": [
    "### Part 2 answer"
   ],
   "metadata": {
    "collapsed": false,
    "pycharm": {
     "name": "#%% md\n"
    }
   }
  },
  {
   "cell_type": "code",
   "execution_count": 141,
   "outputs": [
    {
     "name": "stdout",
     "output_type": "stream",
     "text": [
      "BQDNWJPVJ\n"
     ]
    }
   ],
   "source": [
    "stacks = readCrates(dat)\n",
    "moves = movementsToArray(dat)\n",
    "for move in moves:\n",
    "    stacks = moveCrate9001(stacks, move[0], move[1], move[2])\n",
    "print(findTops(stacks))"
   ],
   "metadata": {
    "collapsed": false,
    "pycharm": {
     "name": "#%%\n"
    }
   }
  },
  {
   "cell_type": "code",
   "execution_count": 141,
   "outputs": [],
   "source": [],
   "metadata": {
    "collapsed": false,
    "pycharm": {
     "name": "#%%\n"
    }
   }
  }
 ],
 "metadata": {
  "kernelspec": {
   "display_name": "Python 3",
   "language": "python",
   "name": "python3"
  },
  "language_info": {
   "codemirror_mode": {
    "name": "ipython",
    "version": 2
   },
   "file_extension": ".py",
   "mimetype": "text/x-python",
   "name": "python",
   "nbconvert_exporter": "python",
   "pygments_lexer": "ipython2",
   "version": "2.7.6"
  }
 },
 "nbformat": 4,
 "nbformat_minor": 0
}