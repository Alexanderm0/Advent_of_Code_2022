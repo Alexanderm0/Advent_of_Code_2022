{
 "cells": [
  {
   "cell_type": "markdown",
   "source": [
    "# Advent of Code 2022\n",
    "### Day 1"
   ],
   "metadata": {
    "collapsed": false,
    "pycharm": {
     "name": "#%% md\n"
    }
   }
  },
  {
   "cell_type": "code",
   "execution_count": 21,
   "outputs": [],
   "source": [
    "import time\n",
    "\n",
    "import pytest\n",
    "import ipytest\n",
    "\n",
    "ipytest.autoconfig()"
   ],
   "metadata": {
    "collapsed": false,
    "pycharm": {
     "name": "#%%\n"
    }
   }
  },
  {
   "cell_type": "code",
   "execution_count": 3,
   "metadata": {
    "collapsed": true,
    "pycharm": {
     "name": "#%%\n"
    }
   },
   "outputs": [],
   "source": [
    "def readData(filename):\n",
    "    with open(filename, 'r') as f:\n",
    "        lines = f.read()\n",
    "        f.close()\n",
    "    return lines\n",
    "\n",
    "data1_1 = './data/day1.txt'\n",
    "\n",
    "arr = readData(data1_1).splitlines()\n",
    "arr.append('')\n"
   ]
  },
  {
   "cell_type": "code",
   "execution_count": 22,
   "outputs": [],
   "source": [
    "def getBaskets(foodlist):\n",
    "    # format what each elf has in their basket\n",
    "    baskets = []\n",
    "    basket = []\n",
    "    for el in foodlist:\n",
    "        if el == '':\n",
    "            baskets.append(basket)\n",
    "            basket = []\n",
    "        else:\n",
    "            basket.append(el)\n",
    "    return baskets\n",
    "\n",
    "\n",
    "def arrToInt(arr):\n",
    "    # cast the strings to integers\n",
    "    return [int(x) for x in arr]\n",
    "\n",
    "def getBasketsInt(baskets):\n",
    "    # cast it for each elf's basket\n",
    "    for idx, l in enumerate(baskets):\n",
    "        baskets[idx] = arrToInt(l)\n",
    "    return baskets\n",
    "\n",
    "def getTotals(foodlist):\n",
    "    # sum over the basket to get total content\n",
    "    return [sum(x) for x in foodlist]\n",
    "\n",
    "foods = getBaskets(arr)\n",
    "foods = getBasketsInt(foods)"
   ],
   "metadata": {
    "collapsed": false,
    "pycharm": {
     "name": "#%%\n"
    }
   }
  },
  {
   "cell_type": "markdown",
   "source": [
    "### Test functions"
   ],
   "metadata": {
    "collapsed": false,
    "pycharm": {
     "name": "#%% md\n"
    }
   }
  },
  {
   "cell_type": "code",
   "execution_count": 14,
   "outputs": [
    {
     "name": "stdout",
     "output_type": "stream",
     "text": [
      "\u001B[32m.\u001B[0m\u001B[32m.\u001B[0m\u001B[32m                                                                                           [100%]\u001B[0m\n",
      "\u001B[32m\u001B[32m\u001B[1m2 passed\u001B[0m\u001B[32m in 0.06s\u001B[0m\u001B[0m\n"
     ]
    },
    {
     "data": {
      "text/plain": "<ExitCode.OK: 0>"
     },
     "execution_count": 14,
     "metadata": {},
     "output_type": "execute_result"
    }
   ],
   "source": [
    "def test_getBaskets():\n",
    "    test_foodlist = [1, 2, 3, '', 4, 5, 6, '']\n",
    "    assert getBaskets(test_foodlist) == [[1, 2, 3], [4, 5, 6]]\n",
    "\n",
    "def test_getTotals():\n",
    "    foodlist = [[13386, 8057, 10577], [1954, 4325, 1580, 5270, 1887, 2577, 2652, 4878, 5630, 5012, 4859, 4836, 2649, 1468], [2661, 16077, 6030, 1807]]\n",
    "    assert len(foodlist) == len(getTotals(foodlist))\n",
    "\n",
    "ipytest.run()"
   ],
   "metadata": {
    "collapsed": false,
    "pycharm": {
     "name": "#%%\n"
    }
   }
  },
  {
   "cell_type": "code",
   "execution_count": 15,
   "outputs": [
    {
     "name": "stdout",
     "output_type": "stream",
     "text": [
      "206643\n"
     ]
    }
   ],
   "source": [
    "def getMostStackedElfs(totals, n):\n",
    "    # Find the elves with the most food\n",
    "    most_calories = [None]*n\n",
    "    for i, cals in enumerate(totals):\n",
    "        if i < n:\n",
    "            most_calories[i] = cals\n",
    "        if i == n:\n",
    "            most_calories.sort()\n",
    "        if i >= n and cals > most_calories[0]:\n",
    "            most_calories[0] = cals\n",
    "            most_calories.sort()\n",
    "    return most_calories\n",
    "\n",
    "totals = getTotals(foods)\n",
    "print(sum(getMostStackedElfs(totals, 3)))"
   ],
   "metadata": {
    "collapsed": false,
    "pycharm": {
     "name": "#%%\n"
    }
   }
  }
 ],
 "metadata": {
  "kernelspec": {
   "display_name": "Python 3",
   "language": "python",
   "name": "python3"
  },
  "language_info": {
   "codemirror_mode": {
    "name": "ipython",
    "version": 2
   },
   "file_extension": ".py",
   "mimetype": "text/x-python",
   "name": "python",
   "nbconvert_exporter": "python",
   "pygments_lexer": "ipython2",
   "version": "2.7.6"
  }
 },
 "nbformat": 4,
 "nbformat_minor": 0
}