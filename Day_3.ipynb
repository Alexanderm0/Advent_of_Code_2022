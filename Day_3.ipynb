{
 "cells": [
  {
   "cell_type": "markdown",
   "source": [
    "# Advent of Code 2022\n",
    "## Day 3\n",
    "\n",
    "Part 1 functions"
   ],
   "metadata": {
    "collapsed": false,
    "pycharm": {
     "name": "#%% md\n"
    }
   }
  },
  {
   "cell_type": "code",
   "execution_count": 67,
   "outputs": [],
   "source": [
    "import time\n",
    "\n",
    "import pytest\n",
    "import ipytest\n",
    "import string\n",
    "\n",
    "ipytest.autoconfig()"
   ],
   "metadata": {
    "collapsed": false,
    "pycharm": {
     "name": "#%%\n"
    }
   }
  },
  {
   "cell_type": "code",
   "execution_count": 68,
   "outputs": [],
   "source": [
    "def readData(filename):\n",
    "    with open(filename, 'r') as f:\n",
    "        lines = f.readlines()\n",
    "        f.close()\n",
    "    return lines\n",
    "\n",
    "lines = readData('./data/day3.txt')\n",
    "lines = [line.strip('\\n').split(' ') for line in lines]"
   ],
   "metadata": {
    "collapsed": false,
    "pycharm": {
     "name": "#%%\n"
    }
   }
  },
  {
   "cell_type": "code",
   "execution_count": 69,
   "outputs": [],
   "source": [
    "def splitCompartments(itemset):\n",
    "    # Get items string inside the list\n",
    "    items = itemset[0]\n",
    "    # Total number of items in backpack\n",
    "    n = len(items)\n",
    "    return [items[:int(n/2)], items[int(n/2):n]]\n",
    "\n",
    "def test_splitCompartments():\n",
    "    itemset = ['testin']\n",
    "    assert splitCompartments(itemset) == ['tes', 'tin']"
   ],
   "metadata": {
    "collapsed": false,
    "pycharm": {
     "name": "#%%\n"
    }
   }
  },
  {
   "cell_type": "code",
   "execution_count": 70,
   "outputs": [],
   "source": [
    "def getDuplicate(itemset):\n",
    "    # get the set intersection to find shared item\n",
    "    comp1 = set(itemset[0])\n",
    "    comp2 = set(itemset[1])\n",
    "    return list(comp1 & comp2)[0]\n",
    "\n",
    "def test_getDuplicate():\n",
    "    itemset = ['tes', 'tin']\n",
    "    assert getDuplicate(itemset) == 't'"
   ],
   "metadata": {
    "collapsed": false,
    "pycharm": {
     "name": "#%%\n"
    }
   }
  },
  {
   "cell_type": "code",
   "execution_count": 71,
   "outputs": [],
   "source": [
    "# define a dictionary mapping a lower or uppercase letter to its respective priority value (a-Z) -> (1-52)\n",
    "letters = string.ascii_lowercase + string.ascii_uppercase\n",
    "PRIORITY = {}\n",
    "for i, letter in enumerate(letters):\n",
    "    PRIORITY[letter] = i+1"
   ],
   "metadata": {
    "collapsed": false,
    "pycharm": {
     "name": "#%%\n"
    }
   }
  },
  {
   "cell_type": "code",
   "execution_count": 72,
   "outputs": [],
   "source": [
    "def getPrioritySum(itemsets):\n",
    "    # Run for each line in the dataset\n",
    "    # Sum total priorities for each elf's backpack contents\n",
    "    total = 0\n",
    "    for itemset in itemsets:\n",
    "        itemset = splitCompartments(itemset)\n",
    "        item = getDuplicate(itemset)\n",
    "        total += PRIORITY[item]\n",
    "    return total"
   ],
   "metadata": {
    "collapsed": false,
    "pycharm": {
     "name": "#%%\n"
    }
   }
  },
  {
   "cell_type": "markdown",
   "source": [
    "Part 2 functions"
   ],
   "metadata": {
    "collapsed": false,
    "pycharm": {
     "name": "#%% md\n"
    }
   }
  },
  {
   "cell_type": "code",
   "execution_count": 73,
   "outputs": [],
   "source": [
    "def getTriplets(itemsets):\n",
    "    # Divide the elves into groups of three as lists of their backpack contents\n",
    "    # e.g. ['elf1', 'elf2', 'elf3']\n",
    "    assert len(itemsets)/3 == int(len(itemsets)/3)\n",
    "    n = int(len(itemsets)/3)\n",
    "    groups = [None]*n\n",
    "    for i in range(n):\n",
    "        groups[i] = [itemsets[3*i][0], itemsets[3*i+1][0], itemsets[3*i+2][0]]\n",
    "    return groups\n",
    "\n",
    "def test_getTriplets():\n",
    "    itemsets = [['testin'], ['klek'], ['breb'], ['hallo'], ['beep'], ['bap']]\n",
    "    assert getTriplets(itemsets) == [['testin', 'klek', 'breb'], ['hallo', 'beep', 'bap']]"
   ],
   "metadata": {
    "collapsed": false,
    "pycharm": {
     "name": "#%%\n"
    }
   }
  },
  {
   "cell_type": "code",
   "execution_count": 74,
   "outputs": [],
   "source": [
    "def getBadge(triplet):\n",
    "    # Get the set intersection of the three inventories\n",
    "    sets = [set(itemset) for itemset in triplet]\n",
    "    badge = list(sets[0] & sets[1] & sets[2])[0]\n",
    "    return badge\n",
    "\n",
    "def test_getBadge():\n",
    "    triplet = ['testin', 'klek', 'breb']\n",
    "    assert getBadge(triplet) == 'e'"
   ],
   "metadata": {
    "collapsed": false,
    "pycharm": {
     "name": "#%%\n"
    }
   }
  },
  {
   "cell_type": "code",
   "execution_count": 75,
   "outputs": [],
   "source": [
    "def getGroupPrioritySum(itemsets):\n",
    "    # sum the priorities of the badges for each group in the dataset\n",
    "    total = 0\n",
    "    triplet_sets = getTriplets(itemsets)\n",
    "    for triplet_set in triplet_sets:\n",
    "        item = getBadge(triplet_set)\n",
    "        total += PRIORITY[item]\n",
    "    return total"
   ],
   "metadata": {
    "collapsed": false,
    "pycharm": {
     "name": "#%%\n"
    }
   }
  },
  {
   "cell_type": "markdown",
   "source": [
    "### Test functions"
   ],
   "metadata": {
    "collapsed": false,
    "pycharm": {
     "name": "#%% md\n"
    }
   }
  },
  {
   "cell_type": "code",
   "execution_count": 76,
   "outputs": [
    {
     "name": "stdout",
     "output_type": "stream",
     "text": [
      "\u001B[32m.\u001B[0m\u001B[32m.\u001B[0m\u001B[32m.\u001B[0m\u001B[32m.\u001B[0m\u001B[32m                                                                                         [100%]\u001B[0m\n",
      "\u001B[32m\u001B[32m\u001B[1m4 passed\u001B[0m\u001B[32m in 0.10s\u001B[0m\u001B[0m\n"
     ]
    },
    {
     "data": {
      "text/plain": "<ExitCode.OK: 0>"
     },
     "execution_count": 76,
     "metadata": {},
     "output_type": "execute_result"
    }
   ],
   "source": [
    "ipytest.run()"
   ],
   "metadata": {
    "collapsed": false,
    "pycharm": {
     "name": "#%%\n"
    }
   }
  },
  {
   "cell_type": "markdown",
   "source": [
    "### Part 1 answer"
   ],
   "metadata": {
    "collapsed": false,
    "pycharm": {
     "name": "#%% md\n"
    }
   }
  },
  {
   "cell_type": "code",
   "execution_count": 77,
   "outputs": [
    {
     "name": "stdout",
     "output_type": "stream",
     "text": [
      "7903\n"
     ]
    }
   ],
   "source": [
    "print(getPrioritySum(lines))"
   ],
   "metadata": {
    "collapsed": false,
    "pycharm": {
     "name": "#%%\n"
    }
   }
  },
  {
   "cell_type": "markdown",
   "source": [
    "### Part 2 answer"
   ],
   "metadata": {
    "collapsed": false,
    "pycharm": {
     "name": "#%% md\n"
    }
   }
  },
  {
   "cell_type": "code",
   "execution_count": 78,
   "outputs": [
    {
     "name": "stdout",
     "output_type": "stream",
     "text": [
      "2548\n"
     ]
    }
   ],
   "source": [
    "print(getGroupPrioritySum(lines))"
   ],
   "metadata": {
    "collapsed": false,
    "pycharm": {
     "name": "#%%\n"
    }
   }
  },
  {
   "cell_type": "code",
   "execution_count": 78,
   "outputs": [],
   "source": [],
   "metadata": {
    "collapsed": false,
    "pycharm": {
     "name": "#%%\n"
    }
   }
  }
 ],
 "metadata": {
  "kernelspec": {
   "display_name": "Python 3",
   "language": "python",
   "name": "python3"
  },
  "language_info": {
   "codemirror_mode": {
    "name": "ipython",
    "version": 2
   },
   "file_extension": ".py",
   "mimetype": "text/x-python",
   "name": "python",
   "nbconvert_exporter": "python",
   "pygments_lexer": "ipython2",
   "version": "2.7.6"
  }
 },
 "nbformat": 4,
 "nbformat_minor": 0
}