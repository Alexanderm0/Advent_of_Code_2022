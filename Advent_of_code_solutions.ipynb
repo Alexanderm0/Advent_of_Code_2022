{
 "cells": [
  {
   "cell_type": "markdown",
   "source": [
    "# Advent of Code 2022\n",
    "### Day 1"
   ],
   "metadata": {
    "collapsed": false,
    "pycharm": {
     "name": "#%% md\n"
    }
   }
  },
  {
   "cell_type": "code",
   "execution_count": 4,
   "outputs": [],
   "source": [
    "import time\n",
    "\n",
    "import pytest\n",
    "import ipytest\n",
    "\n",
    "ipytest.autoconfig()"
   ],
   "metadata": {
    "collapsed": false,
    "pycharm": {
     "name": "#%%\n"
    }
   }
  },
  {
   "cell_type": "code",
   "execution_count": 5,
   "metadata": {
    "collapsed": true,
    "pycharm": {
     "name": "#%%\n"
    }
   },
   "outputs": [],
   "source": [
    "def readData(filename):\n",
    "    with open(filename, 'r') as f:\n",
    "        lines = f.read()\n",
    "        f.close()\n",
    "    return lines\n",
    "\n",
    "data1_1 = './data/day1.txt'\n",
    "\n",
    "arr = readData(data1_1).splitlines()\n",
    "arr.append('')\n"
   ]
  },
  {
   "cell_type": "code",
   "execution_count": 6,
   "outputs": [],
   "source": [
    "def getBaskets(foodlist):\n",
    "    baskets = []\n",
    "    basket = []\n",
    "    for el in foodlist:\n",
    "        if el == '':\n",
    "            baskets.append(basket)\n",
    "            basket = []\n",
    "        else:\n",
    "            basket.append(el)\n",
    "    return baskets\n",
    "\n",
    "# def test_getBaskets():\n",
    "#     test_foodlist = [1, 2, 3, '', 4, 5, 6, '']\n",
    "#     assert getBaskets(test_foodlist) == [[1, 2, 3], [4, 5, 6]]\n",
    "\n",
    "def arrToInt(arr):\n",
    "    return [int(x) for x in arr]\n",
    "\n",
    "def getBasketsInt(baskets):\n",
    "    for idx, l in enumerate(baskets):\n",
    "        baskets[idx] = arrToInt(l)\n",
    "    return baskets\n",
    "\n",
    "foods = getBaskets(arr)\n",
    "foods = getBasketsInt(foods)"
   ],
   "metadata": {
    "collapsed": false,
    "pycharm": {
     "name": "#%%\n"
    }
   }
  },
  {
   "cell_type": "code",
   "execution_count": 7,
   "outputs": [],
   "source": [
    "def getTotals(foodlist):\n",
    "    return [sum(x) for x in foodlist]\n",
    "#\n",
    "# def test_getTotals():\n",
    "#     foodlist = [[13386, 8057, 10577], [1954, 4325, 1580, 5270, 1887, 2577, 2652, 4878, 5630, 5012, 4859, 4836, 2649, 1468], [2661, 16077, 6030, 1807]]\n",
    "#     assert len(foodlist) == len(getTotals(foodlist))\n"
   ],
   "metadata": {
    "collapsed": false,
    "pycharm": {
     "name": "#%%\n"
    }
   }
  },
  {
   "cell_type": "code",
   "execution_count": 8,
   "outputs": [
    {
     "name": "stdout",
     "output_type": "stream",
     "text": [
      "\n",
      "\u001B[33m\u001B[33mno tests ran\u001B[0m\u001B[33m in 0.00s\u001B[0m\u001B[0m\n"
     ]
    },
    {
     "data": {
      "text/plain": "<ExitCode.NO_TESTS_COLLECTED: 5>"
     },
     "execution_count": 8,
     "metadata": {},
     "output_type": "execute_result"
    }
   ],
   "source": [
    "ipytest.run()"
   ],
   "metadata": {
    "collapsed": false,
    "pycharm": {
     "name": "#%%\n"
    }
   }
  },
  {
   "cell_type": "code",
   "execution_count": 9,
   "outputs": [
    {
     "name": "stdout",
     "output_type": "stream",
     "text": [
      "206643\n",
      "0.0010030269622802734\n"
     ]
    }
   ],
   "source": [
    "def getMostStackedElfs(totals, n):\n",
    "    most_calories = [None]*n\n",
    "    for i, cals in enumerate(totals):\n",
    "        if i < n:\n",
    "            most_calories[i] = cals\n",
    "        if i == n:\n",
    "            most_calories.sort()\n",
    "        if i >= n and cals > most_calories[0]:\n",
    "            most_calories[0] = cals\n",
    "            most_calories.sort()\n",
    "    return most_calories\n",
    "\n",
    "print(sum(getMostStackedElfs(getTotals(foods), 3)))"
   ],
   "metadata": {
    "collapsed": false,
    "pycharm": {
     "name": "#%%\n"
    }
   }
  },
  {
   "cell_type": "code",
   "execution_count": 9,
   "outputs": [],
   "source": [],
   "metadata": {
    "collapsed": false,
    "pycharm": {
     "name": "#%%\n"
    }
   }
  }
 ],
 "metadata": {
  "kernelspec": {
   "display_name": "Python 3",
   "language": "python",
   "name": "python3"
  },
  "language_info": {
   "codemirror_mode": {
    "name": "ipython",
    "version": 2
   },
   "file_extension": ".py",
   "mimetype": "text/x-python",
   "name": "python",
   "nbconvert_exporter": "python",
   "pygments_lexer": "ipython2",
   "version": "2.7.6"
  }
 },
 "nbformat": 4,
 "nbformat_minor": 0
}