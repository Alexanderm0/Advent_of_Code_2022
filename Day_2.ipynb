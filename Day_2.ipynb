{
 "cells": [
  {
   "cell_type": "markdown",
   "source": [
    "# Advent of Code 2022\n",
    "## Day 2"
   ],
   "metadata": {
    "collapsed": false,
    "pycharm": {
     "name": "#%% md\n"
    }
   }
  },
  {
   "cell_type": "code",
   "execution_count": 2,
   "outputs": [
    {
     "name": "stdout",
     "output_type": "stream",
     "text": [
      "['A', 'X']\n"
     ]
    }
   ],
   "source": [
    "def readData(filename):\n",
    "    with open(filename, 'r') as f:\n",
    "        lines = f.readlines()\n",
    "        f.close()\n",
    "    return lines\n",
    "\n",
    "lines = readData('./data/day2.txt')\n",
    "lines = [line.strip('\\n').split(' ') for line in lines]\n",
    "\n",
    "print(lines[0])"
   ],
   "metadata": {
    "collapsed": false,
    "pycharm": {
     "name": "#%%\n"
    }
   }
  },
  {
   "cell_type": "code",
   "execution_count": 3,
   "outputs": [],
   "source": [
    "\"\"\"\n",
    "A = X = ROCK\n",
    "B = Y = PAPER\n",
    "C = Z = SCISSORS\n",
    "\"\"\"\n",
    "\n",
    "MOVE_EQ = {\n",
    "    'A': 'X',\n",
    "    'B': 'Y',\n",
    "    'C': 'Z'\n",
    "}\n",
    "\n",
    "MOVE_BEAT = {\n",
    "    'A': 'Y',\n",
    "    'B': 'Z',\n",
    "    'C': 'X'\n",
    "}\n",
    "\n",
    "MOVE_LOSE = {\n",
    "    'A': 'Z',\n",
    "    'B': 'X',\n",
    "    'C': 'Y'\n",
    "}\n",
    "\n",
    "RESULT = {\n",
    "    'X': MOVE_LOSE,\n",
    "    'Y': MOVE_EQ,\n",
    "    'Z': MOVE_BEAT\n",
    "}\n",
    "\n",
    "MOVE_POINTS = {\n",
    "    'X': 1,\n",
    "    'Y': 2,\n",
    "    'Z': 3\n",
    "}\n",
    "\n",
    "def resultToMove(moves):\n",
    "    res = RESULT[moves[1]]\n",
    "    return res[moves[0]]\n",
    "\n",
    "def getMoveLines(data):\n",
    "    return [[moveset[0], resultToMove(moveset)] for moveset in data]\n",
    "\n",
    "def getWinnerPoints(move1, move2):\n",
    "    if MOVE_EQ[move1] == move2:\n",
    "        return 3\n",
    "    if MOVE_BEAT[move1] == move2:\n",
    "        return 6\n",
    "    else:\n",
    "        return 0\n",
    "\n",
    "def getScore(moves):\n",
    "    return MOVE_POINTS[moves[1]] + getWinnerPoints(moves[0], moves[1])\n",
    "\n"
   ],
   "metadata": {
    "collapsed": false,
    "pycharm": {
     "name": "#%%\n"
    }
   }
  },
  {
   "cell_type": "markdown",
   "source": [
    "### Part 1"
   ],
   "metadata": {
    "collapsed": false,
    "pycharm": {
     "name": "#%% md\n"
    }
   }
  },
  {
   "cell_type": "code",
   "execution_count": 4,
   "outputs": [
    {
     "name": "stdout",
     "output_type": "stream",
     "text": [
      "8890\n"
     ]
    }
   ],
   "source": [
    "score_tot = 0\n",
    "for moves in lines:\n",
    "    score_tot += getScore(moves)\n",
    "print(score_tot)"
   ],
   "metadata": {
    "collapsed": false,
    "pycharm": {
     "name": "#%%\n"
    }
   }
  },
  {
   "cell_type": "markdown",
   "source": [
    "### Part 2"
   ],
   "metadata": {
    "collapsed": false,
    "pycharm": {
     "name": "#%% md\n"
    }
   }
  },
  {
   "cell_type": "code",
   "execution_count": 5,
   "outputs": [
    {
     "name": "stdout",
     "output_type": "stream",
     "text": [
      "10238\n"
     ]
    }
   ],
   "source": [
    "lines_move = getMoveLines(lines)\n",
    "score_tot = 0\n",
    "for moves in lines_move:\n",
    "    score_tot += getScore(moves)\n",
    "print(score_tot)"
   ],
   "metadata": {
    "collapsed": false,
    "pycharm": {
     "name": "#%%\n"
    }
   }
  },
  {
   "cell_type": "code",
   "execution_count": null,
   "outputs": [],
   "source": [],
   "metadata": {
    "collapsed": false,
    "pycharm": {
     "name": "#%%\n"
    }
   }
  }
 ],
 "metadata": {
  "kernelspec": {
   "display_name": "Python 3",
   "language": "python",
   "name": "python3"
  },
  "language_info": {
   "codemirror_mode": {
    "name": "ipython",
    "version": 2
   },
   "file_extension": ".py",
   "mimetype": "text/x-python",
   "name": "python",
   "nbconvert_exporter": "python",
   "pygments_lexer": "ipython2",
   "version": "2.7.6"
  }
 },
 "nbformat": 4,
 "nbformat_minor": 0
}